{
 "cells": [
  {
   "cell_type": "markdown",
   "metadata": {},
   "source": [
    "![title](img/python-logo-master-flat-200.png)\n",
    "\n",
    "# Introduction to Python for Data Science"
   ]
  },
  {
   "cell_type": "markdown",
   "metadata": {},
   "source": [
    "Python's <font color='green'>simple, easy to learn syntax </font> emphasizes readability and therefore reduces the cost of program maintenance. Python supports <font color='green'>modules and packages</font>, which encourages <font color='green'>program modularity and code reuse</font>.\n",
    "\n",
    "Python is a general-purpose coding language. It supports other types of programming and software development besides web development. That includes back end development, software development, <font color='green'>data science</font> and writing system scripts among other things."
   ]
  },
  {
   "cell_type": "markdown",
   "metadata": {},
   "source": [
    "***\n",
    "Some of the python packages that we shall be using in these webinar include \n",
    "1. <font color='blue'>pandas</font> - spreadsheet support; \n",
    "2. <font color='blue'>numpy</font> - matrix manipulations;\n",
    "3. <font color='blue'>scipy</font> - support for mathematics, science, and engineering; \n",
    "4. <font color='blue'>matplotlib</font> for data visualisation;  \n",
    "5. <font color='blue'>scikit-learn</font> for Machine Learning</font>; \n",
    "6. and <font color='blue'>datetime</font> manipulating dates and times.\n",
    "***"
   ]
  },
  {
   "cell_type": "markdown",
   "metadata": {},
   "source": [
    "## Loading modules "
   ]
  },
  {
   "cell_type": "code",
   "execution_count": 1,
   "metadata": {},
   "outputs": [],
   "source": [
    "#import module pandas and rename it pd\n",
    "import pandas as pd\n",
    "import numpy as np\n",
    "import matplotlib.pyplot as plt\n",
    "#from module datetime import class datetime and rename it dt ( other classes \n",
    "# found in the datetime module include timezone,timedelta, date, time)\n",
    "from datetime import datetime as dt"
   ]
  },
  {
   "cell_type": "code",
   "execution_count": 108,
   "metadata": {},
   "outputs": [
    {
     "data": {
      "text/plain": [
       "['__name__',\n",
       " '__doc__',\n",
       " '__package__',\n",
       " '__loader__',\n",
       " '__spec__',\n",
       " '__file__',\n",
       " '__cached__',\n",
       " '__builtins__',\n",
       " 'sys',\n",
       " 'MINYEAR',\n",
       " 'MAXYEAR',\n",
       " 'timedelta',\n",
       " 'date',\n",
       " 'tzinfo',\n",
       " 'time',\n",
       " 'datetime',\n",
       " 'timezone',\n",
       " 'datetime_CAPI']"
      ]
     },
     "execution_count": 108,
     "metadata": {},
     "output_type": "execute_result"
    }
   ],
   "source": [
    "# accessing all the classes in a module\n",
    "import datetime\n",
    "datetime.__dir__()"
   ]
  },
  {
   "cell_type": "markdown",
   "metadata": {},
   "source": [
    "***\n",
    "`[pandas]` is derived from the term \"panel data\", an econometrics term for data sets that include observations over multiple time periods for the same individuals\". — Wikipedia \n",
    "\n",
    "* load data of different data formats including csv, spss, sas, stata, excel, json, and database\n",
    "* explore data: removing missing values and duplicates; replacing with new values, filtering rows and columns by some criteria\n",
    "* calculating statistics (avg, min, max, median, percentile per column) and answer questions about correlations between columns two columns\n",
    "* visualise the data directly (based on matplotlib) plot bars, lines, histogram, bubbles and more\n",
    "* store the clean, transformed data to csv, or other file types or databases.\n",
    "***"
   ]
  },
  {
   "cell_type": "code",
   "execution_count": 2,
   "metadata": {},
   "outputs": [
    {
     "data": {
      "text/plain": [
       "['BooleanDtype',\n",
       " 'Categorical',\n",
       " 'CategoricalDtype',\n",
       " 'CategoricalIndex',\n",
       " 'DataFrame',\n",
       " 'DateOffset',\n",
       " 'DatetimeIndex',\n",
       " 'DatetimeTZDtype',\n",
       " 'ExcelFile',\n",
       " 'ExcelWriter',\n",
       " 'Float64Index',\n",
       " 'Grouper',\n",
       " 'HDFStore',\n",
       " 'Index',\n",
       " 'IndexSlice',\n",
       " 'Int16Dtype',\n",
       " 'Int32Dtype',\n",
       " 'Int64Dtype',\n",
       " 'Int64Index',\n",
       " 'Int8Dtype',\n",
       " 'Interval',\n",
       " 'IntervalDtype',\n",
       " 'IntervalIndex',\n",
       " 'MultiIndex',\n",
       " 'NA',\n",
       " 'NaT',\n",
       " 'NamedAgg',\n",
       " 'Period',\n",
       " 'PeriodDtype',\n",
       " 'PeriodIndex',\n",
       " 'RangeIndex',\n",
       " 'Series',\n",
       " 'SparseDtype',\n",
       " 'StringDtype',\n",
       " 'Timedelta',\n",
       " 'TimedeltaIndex',\n",
       " 'Timestamp',\n",
       " 'UInt16Dtype',\n",
       " 'UInt32Dtype',\n",
       " 'UInt64Dtype',\n",
       " 'UInt64Index',\n",
       " 'UInt8Dtype',\n",
       " '__builtins__',\n",
       " '__cached__',\n",
       " '__doc__',\n",
       " '__docformat__',\n",
       " '__file__',\n",
       " '__getattr__',\n",
       " '__git_version__',\n",
       " '__loader__',\n",
       " '__name__',\n",
       " '__package__',\n",
       " '__path__',\n",
       " '__spec__',\n",
       " '__version__',\n",
       " '_config',\n",
       " '_hashtable',\n",
       " '_is_numpy_dev',\n",
       " '_lib',\n",
       " '_libs',\n",
       " '_np_version_under1p14',\n",
       " '_np_version_under1p15',\n",
       " '_np_version_under1p16',\n",
       " '_np_version_under1p17',\n",
       " '_np_version_under1p18',\n",
       " '_testing',\n",
       " '_tslib',\n",
       " '_typing',\n",
       " '_version',\n",
       " 'api',\n",
       " 'array',\n",
       " 'arrays',\n",
       " 'bdate_range',\n",
       " 'compat',\n",
       " 'concat',\n",
       " 'core',\n",
       " 'crosstab',\n",
       " 'cut',\n",
       " 'date_range',\n",
       " 'describe_option',\n",
       " 'errors',\n",
       " 'eval',\n",
       " 'factorize',\n",
       " 'get_dummies',\n",
       " 'get_option',\n",
       " 'infer_freq',\n",
       " 'interval_range',\n",
       " 'io',\n",
       " 'isna',\n",
       " 'isnull',\n",
       " 'json_normalize',\n",
       " 'lreshape',\n",
       " 'melt',\n",
       " 'merge',\n",
       " 'merge_asof',\n",
       " 'merge_ordered',\n",
       " 'notna',\n",
       " 'notnull',\n",
       " 'offsets',\n",
       " 'option_context',\n",
       " 'options',\n",
       " 'pandas',\n",
       " 'period_range',\n",
       " 'pivot',\n",
       " 'pivot_table',\n",
       " 'plotting',\n",
       " 'qcut',\n",
       " 'read_clipboard',\n",
       " 'read_csv',\n",
       " 'read_excel',\n",
       " 'read_feather',\n",
       " 'read_fwf',\n",
       " 'read_gbq',\n",
       " 'read_hdf',\n",
       " 'read_html',\n",
       " 'read_json',\n",
       " 'read_orc',\n",
       " 'read_parquet',\n",
       " 'read_pickle',\n",
       " 'read_sas',\n",
       " 'read_spss',\n",
       " 'read_sql',\n",
       " 'read_sql_query',\n",
       " 'read_sql_table',\n",
       " 'read_stata',\n",
       " 'read_table',\n",
       " 'reset_option',\n",
       " 'set_eng_float_format',\n",
       " 'set_option',\n",
       " 'show_versions',\n",
       " 'test',\n",
       " 'testing',\n",
       " 'timedelta_range',\n",
       " 'to_datetime',\n",
       " 'to_numeric',\n",
       " 'to_pickle',\n",
       " 'to_timedelta',\n",
       " 'tseries',\n",
       " 'unique',\n",
       " 'util',\n",
       " 'value_counts',\n",
       " 'wide_to_long']"
      ]
     },
     "execution_count": 2,
     "metadata": {},
     "output_type": "execute_result"
    }
   ],
   "source": [
    "dir(pd)"
   ]
  },
  {
   "cell_type": "markdown",
   "metadata": {},
   "source": [
    "## Reading and manuplating data"
   ]
  },
  {
   "cell_type": "code",
   "execution_count": 1,
   "metadata": {},
   "outputs": [
    {
     "data": {
      "text/plain": [
       "'/Users/admin/OneDrive - United Nations Development Programme/2020-Projects/projects/Telecoms/Webinars'"
      ]
     },
     "execution_count": 1,
     "metadata": {},
     "output_type": "execute_result"
    }
   ],
   "source": [
    "pwd"
   ]
  },
  {
   "cell_type": "code",
   "execution_count": 33,
   "metadata": {
    "collapsed": true
   },
   "outputs": [],
   "source": [
    "# install pandasql, pandas and numpy - python data science libraries"
   ]
  },
  {
   "cell_type": "code",
   "execution_count": 4,
   "metadata": {},
   "outputs": [],
   "source": [
    "import pandas as pd\n",
    "import numpy as np\n",
    "from pandasql import sqldf\n",
    "pysqldf = lambda q: sqldf(q, globals())"
   ]
  },
  {
   "cell_type": "markdown",
   "metadata": {},
   "source": [
    "## Read csv data - dummy mobile money data "
   ]
  },
  {
   "cell_type": "code",
   "execution_count": 64,
   "metadata": {},
   "outputs": [],
   "source": [
    "# reading csv file format\n",
    "# We read more data formats like Excel, JSON, Text,... \n",
    "file_ = './momo_generated_edrs20200619.csv'\n",
    "momo_df = pd.read_csv(file_)"
   ]
  },
  {
   "cell_type": "code",
   "execution_count": 65,
   "metadata": {},
   "outputs": [
    {
     "data": {
      "text/plain": [
       "(1243802, 10)"
      ]
     },
     "execution_count": 65,
     "metadata": {},
     "output_type": "execute_result"
    }
   ],
   "source": [
    "# shape picks (nrows, ncols)  nrows - number of records/transactions/cases\n",
    "# and ncols - number of fields/features/variables \n",
    "momo_df.shape"
   ]
  },
  {
   "cell_type": "code",
   "execution_count": 66,
   "metadata": {},
   "outputs": [
    {
     "name": "stdout",
     "output_type": "stream",
     "text": [
      "1,243,802 rows and 10 columns\n"
     ]
    }
   ],
   "source": [
    "# print('%d rows and %d columns' %(data.shape[0],data.shape[1]))\n",
    "print (\"{:,d}\".format(momo_df.shape[0])+' rows and %d columns' %(momo_df.shape[1]))"
   ]
  },
  {
   "cell_type": "code",
   "execution_count": 67,
   "metadata": {},
   "outputs": [
    {
     "data": {
      "text/html": [
       "<div>\n",
       "<style scoped>\n",
       "    .dataframe tbody tr th:only-of-type {\n",
       "        vertical-align: middle;\n",
       "    }\n",
       "\n",
       "    .dataframe tbody tr th {\n",
       "        vertical-align: top;\n",
       "    }\n",
       "\n",
       "    .dataframe thead th {\n",
       "        text-align: right;\n",
       "    }\n",
       "</style>\n",
       "<table border=\"1\" class=\"dataframe\">\n",
       "  <thead>\n",
       "    <tr style=\"text-align: right;\">\n",
       "      <th></th>\n",
       "      <th>record_id</th>\n",
       "      <th>sender</th>\n",
       "      <th>receiver</th>\n",
       "      <th>transaction_type</th>\n",
       "      <th>transaction_time</th>\n",
       "      <th>amount</th>\n",
       "      <th>fee</th>\n",
       "      <th>balance_after</th>\n",
       "      <th>sender_cell_id</th>\n",
       "      <th>receiver_cell_id</th>\n",
       "    </tr>\n",
       "  </thead>\n",
       "  <tbody>\n",
       "    <tr>\n",
       "      <th>0</th>\n",
       "      <td>981870208</td>\n",
       "      <td>254724459161</td>\n",
       "      <td>254725916829</td>\n",
       "      <td>CASHOUT</td>\n",
       "      <td>05-01-2020 07:39:08 PM</td>\n",
       "      <td>733290</td>\n",
       "      <td>630.0</td>\n",
       "      <td>1877</td>\n",
       "      <td>1058602</td>\n",
       "      <td>1058602</td>\n",
       "    </tr>\n",
       "    <tr>\n",
       "      <th>1</th>\n",
       "      <td>915950401</td>\n",
       "      <td>254724459161</td>\n",
       "      <td>254728781331</td>\n",
       "      <td>BILL_PAYMENT</td>\n",
       "      <td>30-01-2020 11:06:54 AM</td>\n",
       "      <td>853410</td>\n",
       "      <td>674.0</td>\n",
       "      <td>8933</td>\n",
       "      <td>1058602</td>\n",
       "      <td>1058602</td>\n",
       "    </tr>\n",
       "    <tr>\n",
       "      <th>2</th>\n",
       "      <td>983880675</td>\n",
       "      <td>254724459161</td>\n",
       "      <td>254729465999</td>\n",
       "      <td>BILL_PAYMENT</td>\n",
       "      <td>26-01-2020 10:50:22 AM</td>\n",
       "      <td>61493</td>\n",
       "      <td>214.0</td>\n",
       "      <td>14237</td>\n",
       "      <td>1058602</td>\n",
       "      <td>1058602</td>\n",
       "    </tr>\n",
       "    <tr>\n",
       "      <th>3</th>\n",
       "      <td>990849704</td>\n",
       "      <td>254724459161</td>\n",
       "      <td>254729024058</td>\n",
       "      <td>BILL_PAYMENT</td>\n",
       "      <td>24-01-2020 05:09:26 PM</td>\n",
       "      <td>73908</td>\n",
       "      <td>736.0</td>\n",
       "      <td>8959</td>\n",
       "      <td>1058602</td>\n",
       "      <td>1058602</td>\n",
       "    </tr>\n",
       "    <tr>\n",
       "      <th>4</th>\n",
       "      <td>956926057</td>\n",
       "      <td>254724459161</td>\n",
       "      <td>254721844002</td>\n",
       "      <td>P2P</td>\n",
       "      <td>25-01-2020 05:03:39 PM</td>\n",
       "      <td>921646</td>\n",
       "      <td>154.0</td>\n",
       "      <td>15890</td>\n",
       "      <td>1058602</td>\n",
       "      <td>1058602</td>\n",
       "    </tr>\n",
       "  </tbody>\n",
       "</table>\n",
       "</div>"
      ],
      "text/plain": [
       "   record_id        sender      receiver transaction_type  \\\n",
       "0  981870208  254724459161  254725916829          CASHOUT   \n",
       "1  915950401  254724459161  254728781331     BILL_PAYMENT   \n",
       "2  983880675  254724459161  254729465999     BILL_PAYMENT   \n",
       "3  990849704  254724459161  254729024058     BILL_PAYMENT   \n",
       "4  956926057  254724459161  254721844002              P2P   \n",
       "\n",
       "         transaction_time  amount    fee  balance_after  sender_cell_id  \\\n",
       "0  05-01-2020 07:39:08 PM  733290  630.0           1877         1058602   \n",
       "1  30-01-2020 11:06:54 AM  853410  674.0           8933         1058602   \n",
       "2  26-01-2020 10:50:22 AM   61493  214.0          14237         1058602   \n",
       "3  24-01-2020 05:09:26 PM   73908  736.0           8959         1058602   \n",
       "4  25-01-2020 05:03:39 PM  921646  154.0          15890         1058602   \n",
       "\n",
       "   receiver_cell_id  \n",
       "0           1058602  \n",
       "1           1058602  \n",
       "2           1058602  \n",
       "3           1058602  \n",
       "4           1058602  "
      ]
     },
     "execution_count": 67,
     "metadata": {},
     "output_type": "execute_result"
    }
   ],
   "source": [
    "# display top 5 records\n",
    "momo_df.head(5)"
   ]
  },
  {
   "cell_type": "code",
   "execution_count": 69,
   "metadata": {},
   "outputs": [
    {
     "data": {
      "text/html": [
       "<div>\n",
       "<style scoped>\n",
       "    .dataframe tbody tr th:only-of-type {\n",
       "        vertical-align: middle;\n",
       "    }\n",
       "\n",
       "    .dataframe tbody tr th {\n",
       "        vertical-align: top;\n",
       "    }\n",
       "\n",
       "    .dataframe thead th {\n",
       "        text-align: right;\n",
       "    }\n",
       "</style>\n",
       "<table border=\"1\" class=\"dataframe\">\n",
       "  <thead>\n",
       "    <tr style=\"text-align: right;\">\n",
       "      <th></th>\n",
       "      <th>record_id</th>\n",
       "      <th>sender</th>\n",
       "      <th>receiver</th>\n",
       "      <th>transaction_type</th>\n",
       "      <th>transaction_time</th>\n",
       "      <th>amount</th>\n",
       "      <th>fee</th>\n",
       "      <th>balance_after</th>\n",
       "      <th>sender_cell_id</th>\n",
       "      <th>receiver_cell_id</th>\n",
       "    </tr>\n",
       "  </thead>\n",
       "  <tbody>\n",
       "    <tr>\n",
       "      <th>1243797</th>\n",
       "      <td>906953771</td>\n",
       "      <td>254721716916</td>\n",
       "      <td>254727471171</td>\n",
       "      <td>P2P</td>\n",
       "      <td>19-01-2020 12:15:15 AM</td>\n",
       "      <td>635272</td>\n",
       "      <td>750.0</td>\n",
       "      <td>5370</td>\n",
       "      <td>1028775</td>\n",
       "      <td>1028775</td>\n",
       "    </tr>\n",
       "    <tr>\n",
       "      <th>1243798</th>\n",
       "      <td>964864419</td>\n",
       "      <td>254725822081</td>\n",
       "      <td>254723941674</td>\n",
       "      <td>P2P</td>\n",
       "      <td>14-01-2020 07:16:57 PM</td>\n",
       "      <td>543022</td>\n",
       "      <td>121.0</td>\n",
       "      <td>13075</td>\n",
       "      <td>1059488</td>\n",
       "      <td>1059488</td>\n",
       "    </tr>\n",
       "    <tr>\n",
       "      <th>1243799</th>\n",
       "      <td>947763808</td>\n",
       "      <td>254725822081</td>\n",
       "      <td>254722299421</td>\n",
       "      <td>CASHIN</td>\n",
       "      <td>22-01-2020 01:21:09 AM</td>\n",
       "      <td>87313</td>\n",
       "      <td>0.0</td>\n",
       "      <td>2805</td>\n",
       "      <td>1059488</td>\n",
       "      <td>1059488</td>\n",
       "    </tr>\n",
       "    <tr>\n",
       "      <th>1243800</th>\n",
       "      <td>937764589</td>\n",
       "      <td>254725822081</td>\n",
       "      <td>254723803556</td>\n",
       "      <td>W2B</td>\n",
       "      <td>26-01-2020 04:29:57 PM</td>\n",
       "      <td>996429</td>\n",
       "      <td>661.0</td>\n",
       "      <td>10394</td>\n",
       "      <td>1059488</td>\n",
       "      <td>1059488</td>\n",
       "    </tr>\n",
       "    <tr>\n",
       "      <th>1243801</th>\n",
       "      <td>953918333</td>\n",
       "      <td>254725822081</td>\n",
       "      <td>254724091418</td>\n",
       "      <td>CASHIN</td>\n",
       "      <td>11-01-2020 08:49:19 PM</td>\n",
       "      <td>464378</td>\n",
       "      <td>0.0</td>\n",
       "      <td>14731</td>\n",
       "      <td>1059488</td>\n",
       "      <td>1059488</td>\n",
       "    </tr>\n",
       "  </tbody>\n",
       "</table>\n",
       "</div>"
      ],
      "text/plain": [
       "         record_id        sender      receiver transaction_type  \\\n",
       "1243797  906953771  254721716916  254727471171              P2P   \n",
       "1243798  964864419  254725822081  254723941674              P2P   \n",
       "1243799  947763808  254725822081  254722299421           CASHIN   \n",
       "1243800  937764589  254725822081  254723803556              W2B   \n",
       "1243801  953918333  254725822081  254724091418           CASHIN   \n",
       "\n",
       "               transaction_time  amount    fee  balance_after  sender_cell_id  \\\n",
       "1243797  19-01-2020 12:15:15 AM  635272  750.0           5370         1028775   \n",
       "1243798  14-01-2020 07:16:57 PM  543022  121.0          13075         1059488   \n",
       "1243799  22-01-2020 01:21:09 AM   87313    0.0           2805         1059488   \n",
       "1243800  26-01-2020 04:29:57 PM  996429  661.0          10394         1059488   \n",
       "1243801  11-01-2020 08:49:19 PM  464378    0.0          14731         1059488   \n",
       "\n",
       "         receiver_cell_id  \n",
       "1243797           1028775  \n",
       "1243798           1059488  \n",
       "1243799           1059488  \n",
       "1243800           1059488  \n",
       "1243801           1059488  "
      ]
     },
     "execution_count": 69,
     "metadata": {},
     "output_type": "execute_result"
    }
   ],
   "source": [
    "momo_df.tail(5)"
   ]
  },
  {
   "cell_type": "code",
   "execution_count": 86,
   "metadata": {},
   "outputs": [
    {
     "data": {
      "text/plain": [
       "0     254724459161\n",
       "1     254724459161\n",
       "2     254724459161\n",
       "3     254724459161\n",
       "4     254724459161\n",
       "5     254724459161\n",
       "6     254724459161\n",
       "7     254724459161\n",
       "8     254724459161\n",
       "9     254724459161\n",
       "10    254724459161\n",
       "11    254724459161\n",
       "12    254724459161\n",
       "13    254724459161\n",
       "14    254724459161\n",
       "15    254721851907\n",
       "16    254721851907\n",
       "17    254721851907\n",
       "Name: sender, dtype: int64"
      ]
     },
     "execution_count": 86,
     "metadata": {},
     "output_type": "execute_result"
    }
   ],
   "source": [
    "# selecting the sender\n",
    "momo_df['sender'].head(18)"
   ]
  },
  {
   "cell_type": "code",
   "execution_count": 113,
   "metadata": {},
   "outputs": [
    {
     "name": "stdout",
     "output_type": "stream",
     "text": [
      "1,243,802\n"
     ]
    }
   ],
   "source": [
    "print(\"{:,d}\".format(momo_df['sender'].shape[0]))"
   ]
  },
  {
   "cell_type": "code",
   "execution_count": 115,
   "metadata": {},
   "outputs": [
    {
     "name": "stdout",
     "output_type": "stream",
     "text": [
      "97,378\n"
     ]
    }
   ],
   "source": [
    "# momo_df['sender'].drop_duplicates().shape\n",
    "print(\"{:,d}\".format(pd.unique(momo_df['sender']).shape[0]))"
   ]
  },
  {
   "cell_type": "code",
   "execution_count": 90,
   "metadata": {},
   "outputs": [
    {
     "data": {
      "text/html": [
       "<div>\n",
       "<style scoped>\n",
       "    .dataframe tbody tr th:only-of-type {\n",
       "        vertical-align: middle;\n",
       "    }\n",
       "\n",
       "    .dataframe tbody tr th {\n",
       "        vertical-align: top;\n",
       "    }\n",
       "\n",
       "    .dataframe thead th {\n",
       "        text-align: right;\n",
       "    }\n",
       "</style>\n",
       "<table border=\"1\" class=\"dataframe\">\n",
       "  <thead>\n",
       "    <tr style=\"text-align: right;\">\n",
       "      <th></th>\n",
       "      <th>sender</th>\n",
       "      <th>transaction_type</th>\n",
       "      <th>transaction_time</th>\n",
       "    </tr>\n",
       "  </thead>\n",
       "  <tbody>\n",
       "    <tr>\n",
       "      <th>0</th>\n",
       "      <td>254724459161</td>\n",
       "      <td>CASHOUT</td>\n",
       "      <td>05-01-2020 07:39:08 PM</td>\n",
       "    </tr>\n",
       "    <tr>\n",
       "      <th>1</th>\n",
       "      <td>254724459161</td>\n",
       "      <td>BILL_PAYMENT</td>\n",
       "      <td>30-01-2020 11:06:54 AM</td>\n",
       "    </tr>\n",
       "    <tr>\n",
       "      <th>2</th>\n",
       "      <td>254724459161</td>\n",
       "      <td>BILL_PAYMENT</td>\n",
       "      <td>26-01-2020 10:50:22 AM</td>\n",
       "    </tr>\n",
       "    <tr>\n",
       "      <th>3</th>\n",
       "      <td>254724459161</td>\n",
       "      <td>BILL_PAYMENT</td>\n",
       "      <td>24-01-2020 05:09:26 PM</td>\n",
       "    </tr>\n",
       "    <tr>\n",
       "      <th>4</th>\n",
       "      <td>254724459161</td>\n",
       "      <td>P2P</td>\n",
       "      <td>25-01-2020 05:03:39 PM</td>\n",
       "    </tr>\n",
       "    <tr>\n",
       "      <th>...</th>\n",
       "      <td>...</td>\n",
       "      <td>...</td>\n",
       "      <td>...</td>\n",
       "    </tr>\n",
       "    <tr>\n",
       "      <th>1243797</th>\n",
       "      <td>254721716916</td>\n",
       "      <td>P2P</td>\n",
       "      <td>19-01-2020 12:15:15 AM</td>\n",
       "    </tr>\n",
       "    <tr>\n",
       "      <th>1243798</th>\n",
       "      <td>254725822081</td>\n",
       "      <td>P2P</td>\n",
       "      <td>14-01-2020 07:16:57 PM</td>\n",
       "    </tr>\n",
       "    <tr>\n",
       "      <th>1243799</th>\n",
       "      <td>254725822081</td>\n",
       "      <td>CASHIN</td>\n",
       "      <td>22-01-2020 01:21:09 AM</td>\n",
       "    </tr>\n",
       "    <tr>\n",
       "      <th>1243800</th>\n",
       "      <td>254725822081</td>\n",
       "      <td>W2B</td>\n",
       "      <td>26-01-2020 04:29:57 PM</td>\n",
       "    </tr>\n",
       "    <tr>\n",
       "      <th>1243801</th>\n",
       "      <td>254725822081</td>\n",
       "      <td>CASHIN</td>\n",
       "      <td>11-01-2020 08:49:19 PM</td>\n",
       "    </tr>\n",
       "  </tbody>\n",
       "</table>\n",
       "<p>1243802 rows × 3 columns</p>\n",
       "</div>"
      ],
      "text/plain": [
       "               sender transaction_type        transaction_time\n",
       "0        254724459161          CASHOUT  05-01-2020 07:39:08 PM\n",
       "1        254724459161     BILL_PAYMENT  30-01-2020 11:06:54 AM\n",
       "2        254724459161     BILL_PAYMENT  26-01-2020 10:50:22 AM\n",
       "3        254724459161     BILL_PAYMENT  24-01-2020 05:09:26 PM\n",
       "4        254724459161              P2P  25-01-2020 05:03:39 PM\n",
       "...               ...              ...                     ...\n",
       "1243797  254721716916              P2P  19-01-2020 12:15:15 AM\n",
       "1243798  254725822081              P2P  14-01-2020 07:16:57 PM\n",
       "1243799  254725822081           CASHIN  22-01-2020 01:21:09 AM\n",
       "1243800  254725822081              W2B  26-01-2020 04:29:57 PM\n",
       "1243801  254725822081           CASHIN  11-01-2020 08:49:19 PM\n",
       "\n",
       "[1243802 rows x 3 columns]"
      ]
     },
     "execution_count": 90,
     "metadata": {},
     "output_type": "execute_result"
    }
   ],
   "source": [
    "momo_df[['sender','transaction_type' ,'transaction_time']]"
   ]
  },
  {
   "cell_type": "code",
   "execution_count": 93,
   "metadata": {},
   "outputs": [
    {
     "data": {
      "text/html": [
       "<div>\n",
       "<style scoped>\n",
       "    .dataframe tbody tr th:only-of-type {\n",
       "        vertical-align: middle;\n",
       "    }\n",
       "\n",
       "    .dataframe tbody tr th {\n",
       "        vertical-align: top;\n",
       "    }\n",
       "\n",
       "    .dataframe thead th {\n",
       "        text-align: right;\n",
       "    }\n",
       "</style>\n",
       "<table border=\"1\" class=\"dataframe\">\n",
       "  <thead>\n",
       "    <tr style=\"text-align: right;\">\n",
       "      <th></th>\n",
       "      <th>sender</th>\n",
       "      <th>transaction_type</th>\n",
       "      <th>transaction_time</th>\n",
       "    </tr>\n",
       "  </thead>\n",
       "  <tbody>\n",
       "    <tr>\n",
       "      <th>1122403</th>\n",
       "      <td>254728542912</td>\n",
       "      <td>B2W</td>\n",
       "      <td>01-01-2020 01:00:00 PM</td>\n",
       "    </tr>\n",
       "    <tr>\n",
       "      <th>233502</th>\n",
       "      <td>254723717410</td>\n",
       "      <td>CASHOUT</td>\n",
       "      <td>01-01-2020 01:00:01 AM</td>\n",
       "    </tr>\n",
       "    <tr>\n",
       "      <th>687464</th>\n",
       "      <td>254725614372</td>\n",
       "      <td>P2P</td>\n",
       "      <td>01-01-2020 01:00:02 AM</td>\n",
       "    </tr>\n",
       "    <tr>\n",
       "      <th>1082581</th>\n",
       "      <td>254727196174</td>\n",
       "      <td>B2W</td>\n",
       "      <td>01-01-2020 01:00:04 PM</td>\n",
       "    </tr>\n",
       "    <tr>\n",
       "      <th>53424</th>\n",
       "      <td>254722003617</td>\n",
       "      <td>B2W</td>\n",
       "      <td>01-01-2020 01:00:05 AM</td>\n",
       "    </tr>\n",
       "    <tr>\n",
       "      <th>...</th>\n",
       "      <td>...</td>\n",
       "      <td>...</td>\n",
       "      <td>...</td>\n",
       "    </tr>\n",
       "    <tr>\n",
       "      <th>786078</th>\n",
       "      <td>254722043524</td>\n",
       "      <td>CASHOUT</td>\n",
       "      <td>31-01-2020 12:59:57 AM</td>\n",
       "    </tr>\n",
       "    <tr>\n",
       "      <th>939266</th>\n",
       "      <td>254723826346</td>\n",
       "      <td>CASHIN</td>\n",
       "      <td>31-01-2020 12:59:57 PM</td>\n",
       "    </tr>\n",
       "    <tr>\n",
       "      <th>183544</th>\n",
       "      <td>254725005772</td>\n",
       "      <td>CASHIN</td>\n",
       "      <td>31-01-2020 12:59:57 PM</td>\n",
       "    </tr>\n",
       "    <tr>\n",
       "      <th>121536</th>\n",
       "      <td>254721669714</td>\n",
       "      <td>CASHOUT</td>\n",
       "      <td>31-01-2020 12:59:58 PM</td>\n",
       "    </tr>\n",
       "    <tr>\n",
       "      <th>111245</th>\n",
       "      <td>254723124510</td>\n",
       "      <td>CASHIN</td>\n",
       "      <td>31-01-2020 12:59:59 PM</td>\n",
       "    </tr>\n",
       "  </tbody>\n",
       "</table>\n",
       "<p>1243802 rows × 3 columns</p>\n",
       "</div>"
      ],
      "text/plain": [
       "               sender transaction_type        transaction_time\n",
       "1122403  254728542912              B2W  01-01-2020 01:00:00 PM\n",
       "233502   254723717410          CASHOUT  01-01-2020 01:00:01 AM\n",
       "687464   254725614372              P2P  01-01-2020 01:00:02 AM\n",
       "1082581  254727196174              B2W  01-01-2020 01:00:04 PM\n",
       "53424    254722003617              B2W  01-01-2020 01:00:05 AM\n",
       "...               ...              ...                     ...\n",
       "786078   254722043524          CASHOUT  31-01-2020 12:59:57 AM\n",
       "939266   254723826346           CASHIN  31-01-2020 12:59:57 PM\n",
       "183544   254725005772           CASHIN  31-01-2020 12:59:57 PM\n",
       "121536   254721669714          CASHOUT  31-01-2020 12:59:58 PM\n",
       "111245   254723124510           CASHIN  31-01-2020 12:59:59 PM\n",
       "\n",
       "[1243802 rows x 3 columns]"
      ]
     },
     "execution_count": 93,
     "metadata": {},
     "output_type": "execute_result"
    }
   ],
   "source": [
    "momo_df[['sender','transaction_type' ,'transaction_time']].sort_values(by=[\"transaction_time\",\"sender\"])\n"
   ]
  },
  {
   "cell_type": "markdown",
   "metadata": {},
   "source": [
    "### 1.0 Check number of rows and columns"
   ]
  },
  {
   "cell_type": "code",
   "execution_count": 3,
   "metadata": {},
   "outputs": [
    {
     "data": {
      "text/plain": [
       "(1272066, 10)"
      ]
     },
     "execution_count": 3,
     "metadata": {},
     "output_type": "execute_result"
    }
   ],
   "source": [
    "data.shape"
   ]
  },
  {
   "cell_type": "markdown",
   "metadata": {},
   "source": [
    "### 2.0 List columns in the file"
   ]
  },
  {
   "cell_type": "code",
   "execution_count": 51,
   "metadata": {},
   "outputs": [],
   "source": [
    "momo_df[['record_id', 'sender', 'receiver',\n",
    "       'transaction_type', 'transaction_time', 'amount', 'fee',\n",
    "       'balance_after', 'sender_cell_id', 'receiver_cell_id']].to_csv('momo_generated_edrs20200619.csv',index=False)"
   ]
  },
  {
   "cell_type": "code",
   "execution_count": 50,
   "metadata": {},
   "outputs": [],
   "source": [
    "momo_df.to_csv?"
   ]
  },
  {
   "cell_type": "markdown",
   "metadata": {},
   "source": [
    "### 3.0 Aggregagte data"
   ]
  },
  {
   "cell_type": "code",
   "execution_count": 4,
   "metadata": {},
   "outputs": [
    {
     "data": {
      "text/html": [
       "<div>\n",
       "<style scoped>\n",
       "    .dataframe tbody tr th:only-of-type {\n",
       "        vertical-align: middle;\n",
       "    }\n",
       "\n",
       "    .dataframe tbody tr th {\n",
       "        vertical-align: top;\n",
       "    }\n",
       "\n",
       "    .dataframe thead th {\n",
       "        text-align: right;\n",
       "    }\n",
       "</style>\n",
       "<table border=\"1\" class=\"dataframe\">\n",
       "  <thead>\n",
       "    <tr style=\"text-align: right;\">\n",
       "      <th></th>\n",
       "      <th>sender</th>\n",
       "      <th>record_id</th>\n",
       "      <th>amount</th>\n",
       "    </tr>\n",
       "  </thead>\n",
       "  <tbody>\n",
       "    <tr>\n",
       "      <th>0</th>\n",
       "      <td>254721000008</td>\n",
       "      <td>8</td>\n",
       "      <td>4617449</td>\n",
       "    </tr>\n",
       "    <tr>\n",
       "      <th>1</th>\n",
       "      <td>254721000192</td>\n",
       "      <td>7</td>\n",
       "      <td>5271532</td>\n",
       "    </tr>\n",
       "    <tr>\n",
       "      <th>2</th>\n",
       "      <td>254721000250</td>\n",
       "      <td>4</td>\n",
       "      <td>1820218</td>\n",
       "    </tr>\n",
       "    <tr>\n",
       "      <th>3</th>\n",
       "      <td>254721000355</td>\n",
       "      <td>11</td>\n",
       "      <td>7288752</td>\n",
       "    </tr>\n",
       "    <tr>\n",
       "      <th>4</th>\n",
       "      <td>254721000393</td>\n",
       "      <td>6</td>\n",
       "      <td>2775483</td>\n",
       "    </tr>\n",
       "  </tbody>\n",
       "</table>\n",
       "</div>"
      ],
      "text/plain": [
       "         sender  record_id   amount\n",
       "0  254721000008          8  4617449\n",
       "1  254721000192          7  5271532\n",
       "2  254721000250          4  1820218\n",
       "3  254721000355         11  7288752\n",
       "4  254721000393          6  2775483"
      ]
     },
     "execution_count": 4,
     "metadata": {},
     "output_type": "execute_result"
    }
   ],
   "source": [
    "data.groupby('sender').aggregate({'record_id':len, 'amount':np.sum}).reset_index().head(5)"
   ]
  },
  {
   "cell_type": "code",
   "execution_count": null,
   "metadata": {
    "collapsed": true
   },
   "outputs": [],
   "source": []
  },
  {
   "cell_type": "code",
   "execution_count": 4,
   "metadata": {},
   "outputs": [
    {
     "data": {
      "text/html": [
       "<div>\n",
       "<style scoped>\n",
       "    .dataframe tbody tr th:only-of-type {\n",
       "        vertical-align: middle;\n",
       "    }\n",
       "\n",
       "    .dataframe tbody tr th {\n",
       "        vertical-align: top;\n",
       "    }\n",
       "\n",
       "    .dataframe thead th {\n",
       "        text-align: right;\n",
       "    }\n",
       "</style>\n",
       "<table border=\"1\" class=\"dataframe\">\n",
       "  <thead>\n",
       "    <tr style=\"text-align: right;\">\n",
       "      <th></th>\n",
       "      <th>transaction_type</th>\n",
       "      <th>record_id</th>\n",
       "      <th>amount</th>\n",
       "    </tr>\n",
       "  </thead>\n",
       "  <tbody>\n",
       "    <tr>\n",
       "      <th>0</th>\n",
       "      <td>B2W</td>\n",
       "      <td>212354</td>\n",
       "      <td>106181704978</td>\n",
       "    </tr>\n",
       "    <tr>\n",
       "      <th>1</th>\n",
       "      <td>BILL_PAYMENT</td>\n",
       "      <td>211907</td>\n",
       "      <td>105749004819</td>\n",
       "    </tr>\n",
       "    <tr>\n",
       "      <th>2</th>\n",
       "      <td>CASHIN</td>\n",
       "      <td>212620</td>\n",
       "      <td>106300743161</td>\n",
       "    </tr>\n",
       "    <tr>\n",
       "      <th>3</th>\n",
       "      <td>CASHOUT</td>\n",
       "      <td>211413</td>\n",
       "      <td>106170795139</td>\n",
       "    </tr>\n",
       "    <tr>\n",
       "      <th>4</th>\n",
       "      <td>P2P</td>\n",
       "      <td>211815</td>\n",
       "      <td>105894956317</td>\n",
       "    </tr>\n",
       "  </tbody>\n",
       "</table>\n",
       "</div>"
      ],
      "text/plain": [
       "  transaction_type  record_id        amount\n",
       "0              B2W     212354  106181704978\n",
       "1     BILL_PAYMENT     211907  105749004819\n",
       "2           CASHIN     212620  106300743161\n",
       "3          CASHOUT     211413  106170795139\n",
       "4              P2P     211815  105894956317"
      ]
     },
     "execution_count": 4,
     "metadata": {},
     "output_type": "execute_result"
    }
   ],
   "source": [
    "data_agg = data.groupby(['transaction_type']).aggregate({'record_id':len, 'amount':np.sum}).reset_index()\n",
    "data_agg.head(5)"
   ]
  },
  {
   "cell_type": "markdown",
   "metadata": {},
   "source": [
    "### Rename columns"
   ]
  },
  {
   "cell_type": "code",
   "execution_count": 9,
   "metadata": {},
   "outputs": [
    {
     "data": {
      "text/html": [
       "<div>\n",
       "<style scoped>\n",
       "    .dataframe tbody tr th:only-of-type {\n",
       "        vertical-align: middle;\n",
       "    }\n",
       "\n",
       "    .dataframe tbody tr th {\n",
       "        vertical-align: top;\n",
       "    }\n",
       "\n",
       "    .dataframe thead th {\n",
       "        text-align: right;\n",
       "    }\n",
       "</style>\n",
       "<table border=\"1\" class=\"dataframe\">\n",
       "  <thead>\n",
       "    <tr style=\"text-align: right;\">\n",
       "      <th></th>\n",
       "      <th>transaction_type</th>\n",
       "      <th>transaction_count</th>\n",
       "      <th>amount</th>\n",
       "    </tr>\n",
       "  </thead>\n",
       "  <tbody>\n",
       "    <tr>\n",
       "      <th>0</th>\n",
       "      <td>B2W</td>\n",
       "      <td>212354</td>\n",
       "      <td>106181704978</td>\n",
       "    </tr>\n",
       "    <tr>\n",
       "      <th>1</th>\n",
       "      <td>BILL_PAYMENT</td>\n",
       "      <td>211907</td>\n",
       "      <td>105749004819</td>\n",
       "    </tr>\n",
       "    <tr>\n",
       "      <th>2</th>\n",
       "      <td>CASHIN</td>\n",
       "      <td>212620</td>\n",
       "      <td>106300743161</td>\n",
       "    </tr>\n",
       "    <tr>\n",
       "      <th>3</th>\n",
       "      <td>CASHOUT</td>\n",
       "      <td>211413</td>\n",
       "      <td>106170795139</td>\n",
       "    </tr>\n",
       "    <tr>\n",
       "      <th>4</th>\n",
       "      <td>P2P</td>\n",
       "      <td>211815</td>\n",
       "      <td>105894956317</td>\n",
       "    </tr>\n",
       "    <tr>\n",
       "      <th>5</th>\n",
       "      <td>W2B</td>\n",
       "      <td>211957</td>\n",
       "      <td>106063315319</td>\n",
       "    </tr>\n",
       "  </tbody>\n",
       "</table>\n",
       "</div>"
      ],
      "text/plain": [
       "  transaction_type  transaction_count        amount\n",
       "0              B2W             212354  106181704978\n",
       "1     BILL_PAYMENT             211907  105749004819\n",
       "2           CASHIN             212620  106300743161\n",
       "3          CASHOUT             211413  106170795139\n",
       "4              P2P             211815  105894956317\n",
       "5              W2B             211957  106063315319"
      ]
     },
     "execution_count": 9,
     "metadata": {},
     "output_type": "execute_result"
    }
   ],
   "source": [
    "data_agg.rename(columns={'record_id': 'transaction_count'}, inplace=True)\n",
    "data_agg"
   ]
  },
  {
   "cell_type": "markdown",
   "metadata": {},
   "source": [
    "### 4.0 Pivot data"
   ]
  },
  {
   "cell_type": "markdown",
   "metadata": {},
   "source": [
    "### Create pivot table"
   ]
  },
  {
   "cell_type": "code",
   "execution_count": 4,
   "metadata": {},
   "outputs": [
    {
     "data": {
      "text/html": [
       "<div>\n",
       "<style scoped>\n",
       "    .dataframe tbody tr th:only-of-type {\n",
       "        vertical-align: middle;\n",
       "    }\n",
       "\n",
       "    .dataframe tbody tr th {\n",
       "        vertical-align: top;\n",
       "    }\n",
       "\n",
       "    .dataframe thead th {\n",
       "        text-align: right;\n",
       "    }\n",
       "</style>\n",
       "<table border=\"1\" class=\"dataframe\">\n",
       "  <thead>\n",
       "    <tr style=\"text-align: right;\">\n",
       "      <th>transaction_type</th>\n",
       "      <th>B2W</th>\n",
       "      <th>BILL_PAYMENT</th>\n",
       "      <th>CASHIN</th>\n",
       "      <th>CASHOUT</th>\n",
       "      <th>P2P</th>\n",
       "      <th>W2B</th>\n",
       "    </tr>\n",
       "    <tr>\n",
       "      <th>transaction_time</th>\n",
       "      <th></th>\n",
       "      <th></th>\n",
       "      <th></th>\n",
       "      <th></th>\n",
       "      <th></th>\n",
       "      <th></th>\n",
       "    </tr>\n",
       "  </thead>\n",
       "  <tbody>\n",
       "    <tr>\n",
       "      <th>01-01-2020 01:00:00 PM</th>\n",
       "      <td>416714.0</td>\n",
       "      <td>NaN</td>\n",
       "      <td>NaN</td>\n",
       "      <td>NaN</td>\n",
       "      <td>NaN</td>\n",
       "      <td>NaN</td>\n",
       "    </tr>\n",
       "    <tr>\n",
       "      <th>01-01-2020 01:00:01 AM</th>\n",
       "      <td>NaN</td>\n",
       "      <td>NaN</td>\n",
       "      <td>NaN</td>\n",
       "      <td>78544.0</td>\n",
       "      <td>NaN</td>\n",
       "      <td>NaN</td>\n",
       "    </tr>\n",
       "    <tr>\n",
       "      <th>01-01-2020 01:00:02 AM</th>\n",
       "      <td>NaN</td>\n",
       "      <td>NaN</td>\n",
       "      <td>NaN</td>\n",
       "      <td>NaN</td>\n",
       "      <td>182561.0</td>\n",
       "      <td>NaN</td>\n",
       "    </tr>\n",
       "    <tr>\n",
       "      <th>01-01-2020 01:00:04 PM</th>\n",
       "      <td>971197.0</td>\n",
       "      <td>NaN</td>\n",
       "      <td>NaN</td>\n",
       "      <td>NaN</td>\n",
       "      <td>NaN</td>\n",
       "      <td>NaN</td>\n",
       "    </tr>\n",
       "    <tr>\n",
       "      <th>01-01-2020 01:00:05 AM</th>\n",
       "      <td>916434.0</td>\n",
       "      <td>NaN</td>\n",
       "      <td>NaN</td>\n",
       "      <td>NaN</td>\n",
       "      <td>NaN</td>\n",
       "      <td>NaN</td>\n",
       "    </tr>\n",
       "  </tbody>\n",
       "</table>\n",
       "</div>"
      ],
      "text/plain": [
       "transaction_type             B2W  BILL_PAYMENT  CASHIN  CASHOUT       P2P  W2B\n",
       "transaction_time                                                              \n",
       "01-01-2020 01:00:00 PM  416714.0           NaN     NaN      NaN       NaN  NaN\n",
       "01-01-2020 01:00:01 AM       NaN           NaN     NaN  78544.0       NaN  NaN\n",
       "01-01-2020 01:00:02 AM       NaN           NaN     NaN      NaN  182561.0  NaN\n",
       "01-01-2020 01:00:04 PM  971197.0           NaN     NaN      NaN       NaN  NaN\n",
       "01-01-2020 01:00:05 AM  916434.0           NaN     NaN      NaN       NaN  NaN"
      ]
     },
     "execution_count": 4,
     "metadata": {},
     "output_type": "execute_result"
    }
   ],
   "source": [
    "# pivot table shows hourly bill payment values\n",
    "table = pd.pivot_table(data, values='amount', index=['transaction_time'], columns=['transaction_type'], aggfunc=np.sum)\n",
    "table.head()"
   ]
  },
  {
   "cell_type": "code",
   "execution_count": null,
   "metadata": {
    "collapsed": true
   },
   "outputs": [],
   "source": []
  },
  {
   "cell_type": "markdown",
   "metadata": {},
   "source": [
    "### 5.0 SQL for querying data"
   ]
  },
  {
   "cell_type": "code",
   "execution_count": 35,
   "metadata": {},
   "outputs": [
    {
     "data": {
      "text/html": [
       "<div>\n",
       "<style scoped>\n",
       "    .dataframe tbody tr th:only-of-type {\n",
       "        vertical-align: middle;\n",
       "    }\n",
       "\n",
       "    .dataframe tbody tr th {\n",
       "        vertical-align: top;\n",
       "    }\n",
       "\n",
       "    .dataframe thead th {\n",
       "        text-align: right;\n",
       "    }\n",
       "</style>\n",
       "<table border=\"1\" class=\"dataframe\">\n",
       "  <thead>\n",
       "    <tr style=\"text-align: right;\">\n",
       "      <th></th>\n",
       "      <th>record_id</th>\n",
       "      <th>sender</th>\n",
       "      <th>receiver</th>\n",
       "      <th>transaction_type</th>\n",
       "      <th>transaction_time</th>\n",
       "      <th>amount</th>\n",
       "      <th>fee</th>\n",
       "      <th>balance_after</th>\n",
       "      <th>sender_cell_id</th>\n",
       "      <th>receiver_cell_id</th>\n",
       "    </tr>\n",
       "  </thead>\n",
       "  <tbody>\n",
       "    <tr>\n",
       "      <th>0</th>\n",
       "      <td>915950401</td>\n",
       "      <td>254724459161</td>\n",
       "      <td>254728781331</td>\n",
       "      <td>BILL_PAYMENT</td>\n",
       "      <td>30-01-2020 11:06:54 AM</td>\n",
       "      <td>853410</td>\n",
       "      <td>674.0</td>\n",
       "      <td>8933</td>\n",
       "      <td>1058602</td>\n",
       "      <td>1058602</td>\n",
       "    </tr>\n",
       "    <tr>\n",
       "      <th>1</th>\n",
       "      <td>983880675</td>\n",
       "      <td>254724459161</td>\n",
       "      <td>254729465999</td>\n",
       "      <td>BILL_PAYMENT</td>\n",
       "      <td>26-01-2020 10:50:22 AM</td>\n",
       "      <td>61493</td>\n",
       "      <td>214.0</td>\n",
       "      <td>14237</td>\n",
       "      <td>1058602</td>\n",
       "      <td>1058602</td>\n",
       "    </tr>\n",
       "    <tr>\n",
       "      <th>2</th>\n",
       "      <td>990849704</td>\n",
       "      <td>254724459161</td>\n",
       "      <td>254729024058</td>\n",
       "      <td>BILL_PAYMENT</td>\n",
       "      <td>24-01-2020 05:09:26 PM</td>\n",
       "      <td>73908</td>\n",
       "      <td>736.0</td>\n",
       "      <td>8959</td>\n",
       "      <td>1058602</td>\n",
       "      <td>1058602</td>\n",
       "    </tr>\n",
       "    <tr>\n",
       "      <th>3</th>\n",
       "      <td>909737494</td>\n",
       "      <td>254724459161</td>\n",
       "      <td>254726113483</td>\n",
       "      <td>BILL_PAYMENT</td>\n",
       "      <td>25-01-2020 08:33:01 PM</td>\n",
       "      <td>253739</td>\n",
       "      <td>101.0</td>\n",
       "      <td>8410</td>\n",
       "      <td>1058602</td>\n",
       "      <td>1058602</td>\n",
       "    </tr>\n",
       "    <tr>\n",
       "      <th>4</th>\n",
       "      <td>914986701</td>\n",
       "      <td>254724459161</td>\n",
       "      <td>254725247872</td>\n",
       "      <td>BILL_PAYMENT</td>\n",
       "      <td>04-01-2020 02:29:41 AM</td>\n",
       "      <td>508649</td>\n",
       "      <td>814.0</td>\n",
       "      <td>15547</td>\n",
       "      <td>1058602</td>\n",
       "      <td>1058602</td>\n",
       "    </tr>\n",
       "  </tbody>\n",
       "</table>\n",
       "</div>"
      ],
      "text/plain": [
       "   record_id        sender      receiver transaction_type  \\\n",
       "0  915950401  254724459161  254728781331     BILL_PAYMENT   \n",
       "1  983880675  254724459161  254729465999     BILL_PAYMENT   \n",
       "2  990849704  254724459161  254729024058     BILL_PAYMENT   \n",
       "3  909737494  254724459161  254726113483     BILL_PAYMENT   \n",
       "4  914986701  254724459161  254725247872     BILL_PAYMENT   \n",
       "\n",
       "         transaction_time  amount    fee  balance_after  sender_cell_id  \\\n",
       "0  30-01-2020 11:06:54 AM  853410  674.0           8933         1058602   \n",
       "1  26-01-2020 10:50:22 AM   61493  214.0          14237         1058602   \n",
       "2  24-01-2020 05:09:26 PM   73908  736.0           8959         1058602   \n",
       "3  25-01-2020 08:33:01 PM  253739  101.0           8410         1058602   \n",
       "4  04-01-2020 02:29:41 AM  508649  814.0          15547         1058602   \n",
       "\n",
       "   receiver_cell_id  \n",
       "0           1058602  \n",
       "1           1058602  \n",
       "2           1058602  \n",
       "3           1058602  \n",
       "4           1058602  "
      ]
     },
     "execution_count": 35,
     "metadata": {},
     "output_type": "execute_result"
    }
   ],
   "source": [
    "pysqldf(\"SELECT * FROM data where transaction_type = 'BILL_PAYMENT' LIMIT 10;\").head(5)"
   ]
  },
  {
   "cell_type": "code",
   "execution_count": null,
   "metadata": {
    "collapsed": true
   },
   "outputs": [],
   "source": []
  },
  {
   "cell_type": "markdown",
   "metadata": {},
   "source": [
    "### 6.0 Plotting data"
   ]
  },
  {
   "cell_type": "code",
   "execution_count": 6,
   "metadata": {
    "collapsed": true
   },
   "outputs": [],
   "source": [
    "# import library\n",
    "import matplotlib.pyplot as plt"
   ]
  },
  {
   "cell_type": "markdown",
   "metadata": {},
   "source": [
    "### Plot bar chat"
   ]
  },
  {
   "cell_type": "code",
   "execution_count": 14,
   "metadata": {},
   "outputs": [
    {
     "data": {
      "image/png": "[encoded data removed]",
      "text/plain": [
       "<matplotlib.figure.Figure at 0x232304c6908>"
      ]
     },
     "metadata": {
      "needs_background": "light"
     },
     "output_type": "display_data"
    }
   ],
   "source": [
    "data_agg.plot(x='transaction_type', y=['transaction_count'], kind='barh')\n",
    "plt.show()"
   ]
  },
  {
   "cell_type": "markdown",
   "metadata": {},
   "source": [
    "### Plot pie chart"
   ]
  },
  {
   "cell_type": "code",
   "execution_count": 28,
   "metadata": {},
   "outputs": [
    {
     "data": {
      "image/png": "[encoded data removed]",
      "text/plain": [
       "<matplotlib.figure.Figure at 0x23230819e48>"
      ]
     },
     "metadata": {},
     "output_type": "display_data"
    }
   ],
   "source": [
    "data_agg.plot.pie(y='transaction_count',figsize=(5, 5),autopct='%1.1f%%', startangle=90)\n",
    "\n",
    "# add legend\n",
    "plt.legend(data_agg['transaction_type'],\n",
    "          title=\"Transaction type\",\n",
    "          loc=\"center left\",\n",
    "          bbox_to_anchor=(1, 0, 0.5, 1))\n",
    "\n",
    "plt.show()"
   ]
  },
  {
   "cell_type": "code",
   "execution_count": null,
   "metadata": {
    "collapsed": true
   },
   "outputs": [],
   "source": []
  }
 ],
 "metadata": {
  "kernelspec": {
   "display_name": "Python 3",
   "language": "python",
   "name": "python3"
  },
  "language_info": {
   "codemirror_mode": {
    "name": "ipython",
    "version": 3
   },
   "file_extension": ".py",
   "mimetype": "text/x-python",
   "name": "python",
   "nbconvert_exporter": "python",
   "pygments_lexer": "ipython3",
   "version": "3.7.6"
  },
  "toc": {
   "base_numbering": 1,
   "nav_menu": {},
   "number_sections": true,
   "sideBar": true,
   "skip_h1_title": false,
   "title_cell": "Table of Contents",
   "title_sidebar": "Contents",
   "toc_cell": false,
   "toc_position": {},
   "toc_section_display": true,
   "toc_window_display": false
  }
 },
 "nbformat": 4,
 "nbformat_minor": 2
}
